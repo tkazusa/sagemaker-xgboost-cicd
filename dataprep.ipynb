{
 "cells": [
  {
   "cell_type": "markdown",
   "metadata": {},
   "source": [
    "## データの準備"
   ]
  },
  {
   "cell_type": "code",
   "execution_count": null,
   "metadata": {},
   "outputs": [],
   "source": [
    "from datetime import datetime\n",
    "\n",
    "import boto3\n",
    "import pandas\n",
    "\n",
    "import sagemaker\n",
    "from sagemaker import get_execution_role\n",
    "from sagemaker.amazon.amazon_estimator import get_image_uri\n",
    "from sagemaker.session import s3_input\n",
    "\n",
    "role = get_execution_role()\n",
    "sess = sagemaker.Session()\n",
    "\n",
    "# データのダウンロード\n",
    "!wget https://s3.amazonaws.com/nyc-tlc/trip+data/green_tripdata_2019-06.csv\n",
    "\n",
    "# 本ハンズオンで活用するバケットの作成\n",
    "bucket_name='sagemaker-cicd-{0:%Y%m%d-%H%M%S}'.format(datetime.now())\n",
    "s3 = boto3.resource('s3')\n",
    "bucket = s3.Bucket(bucket_name)\n",
    "bucket.create()\n",
    "\n",
    "# バケットへのデータのアップロード\n",
    "s3.Object(bucket_name, 'green_tripdata_2019-06.csv').upload_file('green_tripdata_2019-06.csv')\n",
    "print('s3://{} へデータがアップロードされました。'.format(bucket_name))\n",
    "\n",
    "# ノートブックインスタンス上でのデータの削除\n",
    "!rm green_tripdata_2019-06.csv"
   ]
  },
  {
   "cell_type": "code",
   "execution_count": null,
   "metadata": {},
   "outputs": [],
   "source": [
    "print('機械学習パイプラインでは {} をバケットとして指定して下さい'.format())"
   ]
  }
 ],
 "metadata": {
  "kernelspec": {
   "display_name": "conda_python3",
   "language": "python",
   "name": "conda_python3"
  },
  "language_info": {
   "codemirror_mode": {
    "name": "ipython",
    "version": 3
   },
   "file_extension": ".py",
   "mimetype": "text/x-python",
   "name": "python",
   "nbconvert_exporter": "python",
   "pygments_lexer": "ipython3",
   "version": "3.6.10"
  }
 },
 "nbformat": 4,
 "nbformat_minor": 4
}
